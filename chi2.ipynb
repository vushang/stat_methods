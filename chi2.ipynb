{
  "nbformat": 4,
  "nbformat_minor": 0,
  "metadata": {
    "colab": {
      "provenance": []
    },
    "kernelspec": {
      "name": "python3",
      "display_name": "Python 3"
    },
    "language_info": {
      "name": "python"
    }
  },
  "cells": [
    {
      "cell_type": "code",
      "source": [
        "import pandas as pd\n",
        "import numpy as np\n",
        "import matplotlib.pyplot as plt\n",
        "from  scipy.stats import chi2_contingency\n",
        "from sklearn.linear_model import LinearRegression"
      ],
      "metadata": {
        "id": "Jryh3ydZcM1Z"
      },
      "execution_count": 1,
      "outputs": []
    },
    {
      "cell_type": "code",
      "source": [
        "### тест хи квадрат на нормальное, экспоненциальное, равномерное распределения\n",
        "def my_chi2test(df1): \n",
        "  g = int(1 + np.floor(np.log2(len(df1))))\n",
        "  h = (max(df1) - min(df1)) / g\n",
        "  \n",
        "  Z = [0] * (g + 1)\n",
        "  for i in range(len(Z)):\n",
        "    Z[i] = min(df1) + (h * i)\n",
        "  data = [0] * g\n",
        "  \n",
        "  for i in range(len(df1)):\n",
        "    for j in range(len(Z) - 1):\n",
        "      if df1[i] >= Z[j] and df1[i] <= Z[j + 1]:\n",
        "        data[j] += 1\n",
        "\n",
        "  for i in range(len(data)):\n",
        "    if data[i] == 0:\n",
        "      data[i] = 1\n",
        "\n",
        "  range_df = []\n",
        "  mask = [round((Z[i] + Z[i + 1]) / 2, 2) for i in range(len(Z) - 1)]\n",
        "  for i in range(len(data)):\n",
        "    range_df += [mask[i]] * data[i]\n",
        "\n",
        "  \n",
        "  mn = 0\n",
        "  chas = rel_freq(range_df)\n",
        "  for i in range(len(chas)):\n",
        "    if chas[i][0] != mask[i]:\n",
        "      chas = (chas[0 : i] + [[mask[i], 1e-15]] + chas[i:])\n",
        "      break\n",
        "\n",
        "  mn = 0\n",
        "  for i in range(len(chas)):\n",
        "    mn += chas[i][0] * chas[i][1]\n",
        "\n",
        "  vr = 0\n",
        "  for i in range(len(chas)):\n",
        "    vr += ((chas[i][0] - mn) ** 2) * chas[i][1]\n",
        "\n",
        "  sq = np.sqrt(vr)\n",
        "  print(\"N =\", len(df1))\n",
        "  print('mean =', round(mn, 3))\n",
        "  print('sq = ', round(sq, 3))\n",
        "  ###\n",
        "  raspr = sorted([round(i, 3) for i in list(sq * np.random.randn(len(df1)) + mn)])\n",
        "  \n",
        "  n_chas = [0] * g\n",
        "  for i in range(len(raspr)):\n",
        "    for j in range(len(Z) - 1):\n",
        "      if raspr[i] >= Z[j] and raspr[i] <= Z[j + 1]:\n",
        "        n_chas[j] += 1\n",
        "  \n",
        "  test = chi2_contingency([data, n_chas])[0:2]\n",
        "  print('NORMAL  chi: ', test[0], '  pvalue: ', test[1])\n",
        "  ###\n",
        "  uni = sorted([round(i, 3) for i in np.random.uniform(min(df1), max(df1), len(df1))])\n",
        "  \n",
        "  uni_chas = [0] * g\n",
        "  for i in range(len(uni)):\n",
        "    for j in range(len(Z) - 1):\n",
        "      if uni[i] >= Z[j] and uni[i] <= Z[j + 1]:\n",
        "        uni_chas[j] += 1\n",
        "\n",
        "  \n",
        "  uni_test = chi2_contingency([data, uni_chas])[0:2]\n",
        "  print('UNIFORM  chi: ', uni_test[0], '  pvalue: ', uni_test[1])\n",
        "  ###\n",
        "  alfa = round(1/mn, 3)\n",
        "  ex = sorted(np.random.exponential(np.abs(mn), len(df1)))\n",
        "\n",
        "  ex_chas = [0] * g\n",
        "  for i in range(len(ex)):\n",
        "    for j in range(len(Z) - 1):\n",
        "      if ex[i] >= Z[j] and ex[i] <= Z[j + 1]:\n",
        "        ex_chas[j] += 1\n",
        "  ex_test = chi2_contingency([data, ex_chas])[0:2]\n",
        "  print('EXPONENTIAL  chi: ', ex_test[0], '  pvalue: ', ex_test[1])\n",
        "  plt.hist(df1, bins = g)"
      ],
      "metadata": {
        "id": "q6cV3Lu5TqJT"
      },
      "execution_count": 2,
      "outputs": []
    },
    {
      "cell_type": "code",
      "source": [],
      "metadata": {
        "id": "91yfnAT-HoMf"
      },
      "execution_count": null,
      "outputs": []
    }
  ]
}