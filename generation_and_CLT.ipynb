{
  "nbformat": 4,
  "nbformat_minor": 0,
  "metadata": {
    "colab": {
      "provenance": []
    },
    "kernelspec": {
      "name": "python3",
      "display_name": "Python 3"
    },
    "language_info": {
      "name": "python"
    }
  },
  "cells": [
    {
      "cell_type": "code",
      "execution_count": 518,
      "metadata": {
        "id": "2pbpIbwnIorx"
      },
      "outputs": [],
      "source": [
        "import numpy as np\n",
        "import matplotlib.pyplot as plt\n",
        "import seaborn as sns\n",
        "from scipy.stats import norm, chi2, f, t\n",
        "from scipy.stats import chi2_contingency\n",
        "from sklearn.linear_model import LinearRegression"
      ]
    },
    {
      "cell_type": "markdown",
      "source": [
        "### Задание 1\n"
      ],
      "metadata": {
        "id": "jChvWQm7PyRJ"
      }
    },
    {
      "cell_type": "code",
      "source": [
        "def rel_freq(x):\n",
        "  freqs = [[value, x.count(value) / len(x)] for value in sorted(set(x))] \n",
        "  return freqs"
      ],
      "metadata": {
        "id": "b-1PFIfl-X5U"
      },
      "execution_count": 43,
      "outputs": []
    },
    {
      "cell_type": "code",
      "source": [
        "def generate_norm(n_dist, n_elem):\n",
        "  distr = np.array([0.0] * n_elem)\n",
        "  mn = []\n",
        "  vr = []\n",
        "  for i in range(n_dist):\n",
        "    a = np.random.randint(-100, 100)\n",
        "    b = np.random.randint(-100, 100)\n",
        "    while a >= b:\n",
        "      a = np.random.randint(-100, 100)\n",
        "      b = np.random.randint(-100, 100)\n",
        "    distr += np.random.uniform(a, b, n_elem)\n",
        "    mn.append((b + a)/2)\n",
        "    vr.append((b - a) ** 2 / 12)\n",
        "  return distr, mn, vr"
      ],
      "metadata": {
        "id": "oKzbzpyIKS_G"
      },
      "execution_count": 185,
      "outputs": []
    },
    {
      "cell_type": "code",
      "source": [
        "df = generate_norm(15, 512)\n",
        "mu = sum(df[1])\n",
        "sk = np.sqrt(sum(df[2]))\n",
        "###\n",
        "plt.axvline(mu, color = 'fuchsia',\n",
        "            linewidth = 4.0)\n",
        "###\n",
        "plt.hist(df[0], bins = 10,\n",
        "         weights = np.ones_like(df[0]) / len(df[0]),\n",
        "         edgecolor = 'black')\n",
        "###\n",
        "x = np.arange(min(df[0]), max(df[0]))\n",
        "plt.plot(x, 50 * norm.pdf(x, mu, sk),\n",
        "         color = 'red',\n",
        "         linewidth = 3)"
      ],
      "metadata": {
        "colab": {
          "base_uri": "https://localhost:8080/",
          "height": 282
        },
        "id": "il8LRWNyTFMx",
        "outputId": "fe1c2111-6b92-4f3a-b141-c8e1c6c464d7"
      },
      "execution_count": 244,
      "outputs": [
        {
          "output_type": "execute_result",
          "data": {
            "text/plain": [
              "[<matplotlib.lines.Line2D at 0x7f82c0424890>]"
            ]
          },
          "metadata": {},
          "execution_count": 244
        },
        {
          "output_type": "display_data",
          "data": {
            "text/plain": [
              "<Figure size 432x288 with 1 Axes>"
            ],
            "image/png": "[encoded data removed]"
          },
          "metadata": {
            "needs_background": "light"
          }
        }
      ]
    },
    {
      "cell_type": "code",
      "source": [
        "my_chi2test(df[0])"
      ],
      "metadata": {
        "colab": {
          "base_uri": "https://localhost:8080/"
        },
        "id": "L6_5f9tdQE5r",
        "outputId": "405a662d-173b-4502-e6b9-9afe5ec902b0"
      },
      "execution_count": 245,
      "outputs": [
        {
          "output_type": "stream",
          "name": "stdout",
          "text": [
            "N = 512\n",
            "mean = -78.913\n",
            "sq =  83.312\n",
            "NORMAL  chi:  7.461403975390953   pvalue:  0.5891957683655382\n",
            "UNIFORM  chi:  201.99596942822797   pvalue:  1.2639889151259338e-38\n",
            "EXPONENTIAL  chi:  646.248745615222   pvalue:  2.458853889217463e-133\n"
          ]
        }
      ]
    },
    {
      "cell_type": "code",
      "source": [
        "anom_normal_test(df[0])"
      ],
      "metadata": {
        "colab": {
          "base_uri": "https://localhost:8080/",
          "height": 282
        },
        "id": "vJxhTjysQE9T",
        "outputId": "198e421e-1a33-419d-c465-bfa044f17b0e"
      },
      "execution_count": 246,
      "outputs": [
        {
          "output_type": "stream",
          "name": "stdout",
          "text": [
            "R2 = 0.9766235354444651\n"
          ]
        },
        {
          "output_type": "display_data",
          "data": {
            "text/plain": [
              "<Figure size 432x288 with 1 Axes>"
            ],
            "image/png": "[encoded data removed]"
          },
          "metadata": {
            "needs_background": "light"
          }
        }
      ]
    },
    {
      "cell_type": "markdown",
      "source": [
        "### Задание 2"
      ],
      "metadata": {
        "id": "Al5KXinU_uo0"
      }
    },
    {
      "cell_type": "code",
      "source": [
        "def generate_chi2(n_dist, n_elem):\n",
        "  distr = np.array([0.0] * n_elem)\n",
        "  for i in range(n_dist):\n",
        "    loc = np.random.randint(-100, 100)\n",
        "    sko = np.random.randint(1, 100)\n",
        "    temp_dispr = np.random.normal(loc, sko, n_elem)\n",
        "    z_score = (temp_dispr - loc) / sko\n",
        "    distr += z_score ** 2\n",
        "  return distr"
      ],
      "metadata": {
        "id": "I3dTz1eUQFAI"
      },
      "execution_count": 490,
      "outputs": []
    },
    {
      "cell_type": "code",
      "source": [
        "df = generate_chi2(15, 512)\n",
        "###\n",
        "plt.hist(df, bins = 10,\n",
        "         weights = np.ones_like(df) / len(df),\n",
        "         edgecolor = 'black')\n",
        "###\n",
        "x = np.arange(min(df), max(df))\n",
        "plt.plot(x, 3.3 * chi2.pdf(x, df = 14),\n",
        "         color = 'red',\n",
        "         linewidth = 3)"
      ],
      "metadata": {
        "colab": {
          "base_uri": "https://localhost:8080/",
          "height": 282
        },
        "id": "8MLqyZnXQFC9",
        "outputId": "04422440-39a9-4f83-ded5-28eb30fbed51"
      },
      "execution_count": 491,
      "outputs": [
        {
          "output_type": "execute_result",
          "data": {
            "text/plain": [
              "[<matplotlib.lines.Line2D at 0x7f82bae16c10>]"
            ]
          },
          "metadata": {},
          "execution_count": 491
        },
        {
          "output_type": "display_data",
          "data": {
            "text/plain": [
              "<Figure size 432x288 with 1 Axes>"
            ],
            "image/png": "[encoded data removed]"
          },
          "metadata": {
            "needs_background": "light"
          }
        }
      ]
    },
    {
      "cell_type": "code",
      "source": [
        "chi2_df = np.random.chisquare(14, 512)\n",
        "x1 = plt.hist(df, bins = 10)[0]\n",
        "x2 = plt.hist(chi2_df, bins = 10)[0]\n",
        "test = chi2_contingency([x1, x2])\n",
        "print('CHI2  chi: ', test[0], '  pvalue: ', test[1])"
      ],
      "metadata": {
        "colab": {
          "base_uri": "https://localhost:8080/",
          "height": 282
        },
        "id": "fqxn0rTGQFJ8",
        "outputId": "c7e1293f-d448-48aa-a3d1-5ecd743627e8"
      },
      "execution_count": 492,
      "outputs": [
        {
          "output_type": "stream",
          "name": "stdout",
          "text": [
            "CHI2  chi:  14.236827146802344   pvalue:  0.11414670241159038\n"
          ]
        },
        {
          "output_type": "display_data",
          "data": {
            "text/plain": [
              "<Figure size 432x288 with 1 Axes>"
            ],
            "image/png": "[encoded data removed]"
          },
          "metadata": {
            "needs_background": "light"
          }
        }
      ]
    },
    {
      "cell_type": "markdown",
      "source": [
        "### Задание 3"
      ],
      "metadata": {
        "id": "M7LSmB9nHEWC"
      }
    },
    {
      "cell_type": "code",
      "source": [
        "df1 = np.random.chisquare(15, 512)\n",
        "df2 = np.random.chisquare(10, 512)\n",
        "fisher = df1 / df2"
      ],
      "metadata": {
        "id": "1iuYXcJiQ1PZ"
      },
      "execution_count": 487,
      "outputs": []
    },
    {
      "cell_type": "code",
      "source": [
        "###\n",
        "plt.hist(fisher, bins = 10,\n",
        "         weights = np.ones_like(fisher) / len(fisher),\n",
        "         edgecolor = 'black')\n",
        "###\n",
        "x = np.arange(min(fisher), max(fisher), 0.01)\n",
        "plt.plot(x, f.pdf(x, 15, 10),\n",
        "         color = 'red',\n",
        "         linewidth = 3)"
      ],
      "metadata": {
        "colab": {
          "base_uri": "https://localhost:8080/",
          "height": 282
        },
        "id": "QlVo02PBQ1SW",
        "outputId": "87104c9d-d867-4c13-86ab-6cbfd50f6199"
      },
      "execution_count": 488,
      "outputs": [
        {
          "output_type": "execute_result",
          "data": {
            "text/plain": [
              "[<matplotlib.lines.Line2D at 0x7f82baf71790>]"
            ]
          },
          "metadata": {},
          "execution_count": 488
        },
        {
          "output_type": "display_data",
          "data": {
            "text/plain": [
              "<Figure size 432x288 with 1 Axes>"
            ],
            "image/png": "[encoded data removed]"
          },
          "metadata": {
            "needs_background": "light"
          }
        }
      ]
    },
    {
      "cell_type": "code",
      "source": [
        "ff = np.random.f(15, 10, 512)\n",
        "x1 = plt.hist(fisher, bins = 10)[0]\n",
        "x2 = plt.hist(ff, bins = 10)[0]\n",
        "\n",
        "for i in range(len(x1)):\n",
        "  if x1[i] == 0:\n",
        "    x1[i] = 1\n",
        "  if x2[i] == 0:\n",
        "    x2[i] = 1\n",
        "test = chi2_contingency([x1, x2])\n",
        "print('FISHER  chi: ', test[0], '  pvalue: ', test[1])"
      ],
      "metadata": {
        "colab": {
          "base_uri": "https://localhost:8080/",
          "height": 282
        },
        "id": "7lB2Pz4jQ1eN",
        "outputId": "b56ea59d-8e45-4759-f629-0ace98784941"
      },
      "execution_count": 489,
      "outputs": [
        {
          "output_type": "stream",
          "name": "stdout",
          "text": [
            "FISHER  chi:  10.036488475281066   pvalue:  0.34753934795453584\n"
          ]
        },
        {
          "output_type": "display_data",
          "data": {
            "text/plain": [
              "<Figure size 432x288 with 1 Axes>"
            ],
            "image/png": "[encoded data removed]"
          },
          "metadata": {
            "needs_background": "light"
          }
        }
      ]
    },
    {
      "cell_type": "markdown",
      "source": [
        "### Задание 4"
      ],
      "metadata": {
        "id": "7eV4b19-PNE1"
      }
    },
    {
      "cell_type": "code",
      "source": [
        "y0 = np.random.normal(0, 1, 512)\n",
        "\n",
        "\n",
        "yn = np.array([0.0] * 512)\n",
        "for i in range(4):\n",
        "  yn += np.random.normal(0, 1, 512) ** 2\n",
        "\n",
        "t_distr = y0 / np.sqrt(yn/5)"
      ],
      "metadata": {
        "id": "FqIhtFJTMbh1"
      },
      "execution_count": 560,
      "outputs": []
    },
    {
      "cell_type": "code",
      "source": [
        "###\n",
        "plt.hist(t_distr, bins = 10,\n",
        "         weights = np.ones_like(fisher) / len(fisher),\n",
        "         edgecolor = 'black')\n",
        "###\n",
        "x = np.arange(min(t_distr), max(t_distr), 0.01)\n",
        "plt.plot(x, t.pdf(x, 5),\n",
        "         color = 'red',\n",
        "         linewidth = 3)"
      ],
      "metadata": {
        "colab": {
          "base_uri": "https://localhost:8080/",
          "height": 282
        },
        "id": "i9-P6qHmMblw",
        "outputId": "a5a2e75e-ec20-406b-c9b4-87089697f6d2"
      },
      "execution_count": 561,
      "outputs": [
        {
          "output_type": "execute_result",
          "data": {
            "text/plain": [
              "[<matplotlib.lines.Line2D at 0x7f82bad9f9d0>]"
            ]
          },
          "metadata": {},
          "execution_count": 561
        },
        {
          "output_type": "display_data",
          "data": {
            "text/plain": [
              "<Figure size 432x288 with 1 Axes>"
            ],
            "image/png": "[encoded data removed]"
          },
          "metadata": {
            "needs_background": "light"
          }
        }
      ]
    },
    {
      "cell_type": "code",
      "source": [
        "tt = np.random.standard_t(5, 512)\n",
        "x1 = plt.hist(t_distr, bins = 10)[0]\n",
        "x2 = plt.hist(tt, bins = 10)[0]\n",
        "\n",
        "for i in range(len(x1)):\n",
        "  if x1[i] == 0:\n",
        "    x1[i] = 1\n",
        "  if x2[i] == 0:\n",
        "    x2[i] = 1\n",
        "\n",
        "test = chi2_contingency([x1, x2])\n",
        "print('t-student  chi: ', test[0], '  pvalue: ', test[1])"
      ],
      "metadata": {
        "colab": {
          "base_uri": "https://localhost:8080/",
          "height": 282
        },
        "id": "CxPJHVVSMbpA",
        "outputId": "e6ab7bed-0aba-4deb-e6ca-ced913999aa6"
      },
      "execution_count": 566,
      "outputs": [
        {
          "output_type": "stream",
          "name": "stdout",
          "text": [
            "t-student  chi:  7.005934606190062   pvalue:  0.6365014975682817\n"
          ]
        },
        {
          "output_type": "display_data",
          "data": {
            "text/plain": [
              "<Figure size 432x288 with 1 Axes>"
            ],
            "image/png": "[encoded data removed]"
          },
          "metadata": {
            "needs_background": "light"
          }
        }
      ]
    },
    {
      "cell_type": "markdown",
      "source": [
        "### Вспомогательные функции"
      ],
      "metadata": {
        "id": "4e1n8DOkbhIj"
      }
    },
    {
      "cell_type": "code",
      "source": [
        "# метод анамарфоз для нормального распределения\n",
        "def anom_normal_test(df1): \n",
        "  g = int(1 + np.floor(np.log2(len(df1))))\n",
        "  h = (max(df1) - min(df1)) / g\n",
        "  \n",
        "  Z = [0] * (g + 1)\n",
        "  for i in range(len(Z)):\n",
        "    Z[i] = min(df1) + (h * i)\n",
        "  data = [0] * g\n",
        "\n",
        "  for i in range(len(df1)):\n",
        "    for j in range(len(Z) - 1):\n",
        "      if df1[i] >= Z[j] and df1[i] <= Z[j + 1]:\n",
        "        data[j] += 1\n",
        "  \n",
        "  mask = [round((Z[i] + Z[i + 1]) / 2, 2) for i in range(len(Z) - 1)]\n",
        "  range_df = []\n",
        "  for i in range(len(data)):\n",
        "    range_df += [mask[i]] * data[i]\n",
        "  \n",
        "  mn = 0\n",
        "  chas = rel_freq(range_df)\n",
        "  for i in range(len(chas)):\n",
        "    if chas[i][0] != mask[i]:\n",
        "      chas = (chas[0 : i] + [[mask[i], 1e-15]] + chas[i:])\n",
        "      break\n",
        "\n",
        "  for i in range(len(chas)):\n",
        "    mn += chas[i][0] * chas[i][1]\n",
        "  vr = 0\n",
        "  for i in range(len(chas)):\n",
        "    vr += ((chas[i][0] - mn) ** 2) * chas[i][1]\n",
        "\n",
        "  sq = np.sqrt(vr)\n",
        "\n",
        "  ln_freq = np.log(np.array([i[1] for i in chas]))\n",
        "\n",
        "  base = [i[0] for i in chas]\n",
        "\n",
        "  otkl = [0] * g\n",
        "  for i in range(len(base)):\n",
        "    otkl[i] = (base[i] - mn) ** 2\n",
        "\n",
        "  plt.plot(otkl, ln_freq)\n",
        "  \n",
        "\n",
        "  otkl = np.array(otkl).reshape((-1, 1))\n",
        "  ln_freq = np.array(ln_freq)\n",
        "  \n",
        "  model = LinearRegression()\n",
        "  model.fit(otkl, ln_freq)\n",
        "  a = model.coef_[0]\n",
        "  b = model.intercept_\n",
        "\n",
        "  plt.plot([min(otkl), max(otkl)], [min(otkl) * a + b, max(otkl) * a + b])\n",
        "  mod_ln = (otkl.reshape(-1) * a + b)\n",
        "  \n",
        "  \n",
        "  \n",
        "  r2 = (np.corrcoef(ln_freq, mod_ln) ** 2)[0][1]\n",
        "  print('R2 =', r2)"
      ],
      "metadata": {
        "id": "VqASrbw0QFM2"
      },
      "execution_count": 211,
      "outputs": []
    },
    {
      "cell_type": "code",
      "source": [
        "### тест хи квадрат на нормальное, экспоненциальное, равномерное распределения\n",
        "def my_chi2test(df1): \n",
        "  g = int(1 + np.floor(np.log2(len(df1))))\n",
        "  h = (max(df1) - min(df1)) / g\n",
        "  \n",
        "  Z = [0] * (g + 1)\n",
        "  for i in range(len(Z)):\n",
        "    Z[i] = min(df1) + (h * i)\n",
        "  data = [0] * g\n",
        "  \n",
        "  for i in range(len(df1)):\n",
        "    for j in range(len(Z) - 1):\n",
        "      if df1[i] >= Z[j] and df1[i] <= Z[j + 1]:\n",
        "        data[j] += 1\n",
        "\n",
        "  for i in range(len(data)):\n",
        "    if data[i] == 0:\n",
        "      data[i] = 1\n",
        "\n",
        "  range_df = []\n",
        "  mask = [round((Z[i] + Z[i + 1]) / 2, 2) for i in range(len(Z) - 1)]\n",
        "  for i in range(len(data)):\n",
        "    range_df += [mask[i]] * data[i]\n",
        "\n",
        "  \n",
        "  mn = 0\n",
        "  chas = rel_freq(range_df)\n",
        "  for i in range(len(chas)):\n",
        "    if chas[i][0] != mask[i]:\n",
        "      chas = (chas[0 : i] + [[mask[i], 1e-15]] + chas[i:])\n",
        "      break\n",
        "\n",
        "  mn = 0\n",
        "  for i in range(len(chas)):\n",
        "    mn += chas[i][0] * chas[i][1]\n",
        "\n",
        "  vr = 0\n",
        "  for i in range(len(chas)):\n",
        "    vr += ((chas[i][0] - mn) ** 2) * chas[i][1]\n",
        "\n",
        "  sq = np.sqrt(vr)\n",
        "  print(\"N =\", len(df1))\n",
        "  print('mean =', round(mn, 3))\n",
        "  print('sq = ', round(sq, 3))\n",
        "  ###\n",
        "  raspr = sorted([round(i, 3) for i in list(sq * np.random.randn(len(df1)) + mn)])\n",
        "  \n",
        "  n_chas = [0] * g\n",
        "  for i in range(len(raspr)):\n",
        "    for j in range(len(Z) - 1):\n",
        "      if raspr[i] >= Z[j] and raspr[i] <= Z[j + 1]:\n",
        "        n_chas[j] += 1\n",
        "  \n",
        "  test = chi2_contingency([data, n_chas])[0:2]\n",
        "  print('NORMAL  chi: ', test[0], '  pvalue: ', test[1])\n",
        "  ###\n",
        "  uni = sorted([round(i, 3) for i in np.random.uniform(min(df1), max(df1), len(df1))])\n",
        "  \n",
        "  uni_chas = [0] * g\n",
        "  for i in range(len(uni)):\n",
        "    for j in range(len(Z) - 1):\n",
        "      if uni[i] >= Z[j] and uni[i] <= Z[j + 1]:\n",
        "        uni_chas[j] += 1\n",
        "\n",
        "  \n",
        "  uni_test = chi2_contingency([data, uni_chas])[0:2]\n",
        "  print('UNIFORM  chi: ', uni_test[0], '  pvalue: ', uni_test[1])\n",
        "  ###\n",
        "  alfa = round(1/mn, 3)\n",
        "  ex = sorted(np.random.exponential(np.abs(mn), len(df1)))\n",
        "\n",
        "  ex_chas = [0] * g\n",
        "  for i in range(len(ex)):\n",
        "    for j in range(len(Z) - 1):\n",
        "      if ex[i] >= Z[j] and ex[i] <= Z[j + 1]:\n",
        "        ex_chas[j] += 1\n",
        "  ex_test = chi2_contingency([data, ex_chas])[0:2]\n",
        "  print('EXPONENTIAL  chi: ', ex_test[0], '  pvalue: ', ex_test[1])\n",
        "  #plt.hist(df1, bins = g)"
      ],
      "metadata": {
        "id": "Rpw7pQxkO0An"
      },
      "execution_count": 209,
      "outputs": []
    }
  ]
}