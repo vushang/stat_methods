{
  "nbformat": 4,
  "nbformat_minor": 0,
  "metadata": {
    "colab": {
      "provenance": []
    },
    "kernelspec": {
      "name": "python3",
      "display_name": "Python 3"
    },
    "language_info": {
      "name": "python"
    }
  },
  "cells": [
    {
      "cell_type": "code",
      "source": [
        "import pandas as pd\n",
        "import numpy as np\n",
        "import matplotlib.pyplot as plt\n",
        "from  scipy.stats import chi2_contingency\n",
        "from sklearn.linear_model import LinearRegression"
      ],
      "metadata": {
        "id": "Jryh3ydZcM1Z"
      },
      "execution_count": 1,
      "outputs": []
    },
    {
      "cell_type": "code",
      "source": [
        "def anom_rav_test(df1): \n",
        "  g = int(1 + np.floor(np.log2(len(df1))))\n",
        "  h = (max(df1) - min(df1)) / g\n",
        "  \n",
        "  Z = [0] * (g + 1)\n",
        "  for i in range(len(Z)):\n",
        "    Z[i] = min(df1) + (h * i)\n",
        "  data = [0] * g\n",
        "\n",
        "  for i in range(len(df1)):\n",
        "    for j in range(len(Z) - 1):\n",
        "      if df1[i] >= Z[j] and df1[i] <= Z[j + 1]:\n",
        "        data[j] += 1\n",
        "  \n",
        "  mask = [round((Z[i] + Z[i + 1]) / 2, 2) for i in range(len(Z) - 1)]\n",
        "  range_df = []\n",
        "  for i in range(len(data)):\n",
        "    range_df += [mask[i]] * data[i]\n",
        "\n",
        "  mn = 0\n",
        "  chas = rel_freq(range_df)\n",
        "  \n",
        "  for i in range(len(chas)):\n",
        "    if chas[i][0] != mask[i]:\n",
        "      chas = (chas[0 : i] + [[mask[i], 1e-20]] + chas[i:])\n",
        "      break\n",
        "\n",
        "  for i in range(len(chas)):\n",
        "    mn += chas[i][0] * chas[i][1]\n",
        "  vr = 0\n",
        "  for i in range(len(chas)):\n",
        "    vr += ((chas[i][0] - mn) ** 2) * chas[i][1]\n",
        "\n",
        "  sq = np.sqrt(vr)\n",
        "\n",
        "  p = np.array([i[1] for i in chas])\n",
        "  cs = np.cumsum(p)\n",
        "\n",
        "  mask = np.array([i[0] for i in chas])\n",
        "   \n",
        "  toch = np.array([i[0] for i in chas]).reshape((-1, 1))\n",
        "  \n",
        "  model = LinearRegression()\n",
        "  model.fit(toch, cs)\n",
        "\n",
        "  a = model.coef_[0]\n",
        "  b = model.intercept_\n",
        "\n",
        "  plt.plot(mask, cs)\n",
        "  plt.plot([min(mask), max(mask)], [min(mask) * a + b, max(mask) * a + b])\n",
        "\n",
        "  r2 = (np.corrcoef(mask * a + b, cs) ** 2)[0][1]\n",
        "  print('R2 =', r2)"
      ],
      "metadata": {
        "id": "91yfnAT-HoMf"
      },
      "execution_count": 3,
      "outputs": []
    },
    {
      "cell_type": "code",
      "source": [],
      "metadata": {
        "id": "M_hL2bfuIvvH"
      },
      "execution_count": null,
      "outputs": []
    }
  ]
}