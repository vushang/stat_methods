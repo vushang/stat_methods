{
  "nbformat": 4,
  "nbformat_minor": 0,
  "metadata": {
    "colab": {
      "provenance": [],
      "toc_visible": true
    },
    "kernelspec": {
      "name": "python3",
      "display_name": "Python 3"
    },
    "language_info": {
      "name": "python"
    }
  },
  "cells": [
    {
      "cell_type": "code",
      "execution_count": 2,
      "metadata": {
        "id": "mZtVcQQhD1gi"
      },
      "outputs": [],
      "source": [
        "import pandas as pd\n",
        "import numpy as np\n",
        "import matplotlib.pyplot as plt\n",
        "from sklearn.linear_model import LinearRegression"
      ]
    },
    {
      "cell_type": "markdown",
      "source": [
        "# Задание 1"
      ],
      "metadata": {
        "id": "9namlmqnXkp7"
      }
    },
    {
      "cell_type": "code",
      "source": [
        "df = pd.read_csv('/content/drive/MyDrive/datasets/1.txt', sep = ',', names = ['X', 'y'])"
      ],
      "metadata": {
        "id": "eKRebyc-EayW"
      },
      "execution_count": 3,
      "outputs": []
    },
    {
      "cell_type": "code",
      "source": [
        "x = np.array(df['X'])\n",
        "y = np.array(df['y'])\n",
        "n = len(x)"
      ],
      "metadata": {
        "id": "sW2RkSGvE0qq"
      },
      "execution_count": 4,
      "outputs": []
    },
    {
      "cell_type": "code",
      "source": [
        "plt.scatter(x, y)"
      ],
      "metadata": {
        "colab": {
          "base_uri": "https://localhost:8080/",
          "height": 282
        },
        "id": "iBzd1T-gGy70",
        "outputId": "eb9623a5-0faf-4236-f03c-0a1ee890551c"
      },
      "execution_count": 5,
      "outputs": [
        {
          "output_type": "execute_result",
          "data": {
            "text/plain": [
              "<matplotlib.collections.PathCollection at 0x7f525ba7cf10>"
            ]
          },
          "metadata": {},
          "execution_count": 5
        },
        {
          "output_type": "display_data",
          "data": {
            "text/plain": [
              "<Figure size 432x288 with 1 Axes>"
            ],
            "image/png": "[encoded data removed]"
          },
          "metadata": {
            "needs_background": "light"
          }
        }
      ]
    },
    {
      "cell_type": "markdown",
      "source": [
        "### Оценки корреляции"
      ],
      "metadata": {
        "id": "ETOqUbjB7H1F"
      }
    },
    {
      "cell_type": "code",
      "source": [
        "corr = np.corrcoef(x, y)\n",
        "r = corr[0][1]\n",
        "print('r =', r)"
      ],
      "metadata": {
        "colab": {
          "base_uri": "https://localhost:8080/"
        },
        "id": "HNGgkByOGsEz",
        "outputId": "8609db81-953f-4d7b-d570-3ee0899cfa54"
      },
      "execution_count": 6,
      "outputs": [
        {
          "output_type": "stream",
          "name": "stdout",
          "text": [
            "r = 0.9857101819098635\n"
          ]
        }
      ]
    },
    {
      "cell_type": "markdown",
      "source": [
        "связь по шкале Чеддока \"весьма высокая\""
      ],
      "metadata": {
        "id": "4bMIlwwg6mbm"
      }
    },
    {
      "cell_type": "markdown",
      "source": [
        "распределение r есть распределение t-распределение Стьюдента с n-2 степенями свободы "
      ],
      "metadata": {
        "id": "-F6iQTyp6znA"
      }
    },
    {
      "cell_type": "code",
      "source": [
        "#t = (r / np.sqrt(1 - r**2)) * np.sqrt(n - 2)\n",
        "t = abs(r) * np.sqrt((n - 2) / (1 - r**2))\n",
        "print('t =', t)"
      ],
      "metadata": {
        "colab": {
          "base_uri": "https://localhost:8080/"
        },
        "id": "2kKanMNoNNWT",
        "outputId": "98c602fe-65d4-4fde-916e-1e2671c11fcb"
      },
      "execution_count": 7,
      "outputs": [
        {
          "output_type": "stream",
          "name": "stdout",
          "text": [
            "t = 57.92832873057542\n"
          ]
        }
      ]
    },
    {
      "cell_type": "markdown",
      "source": [
        "критическое значение для df = 98, alpha = 0.05 ---- t(кр) = 1.99\n",
        "следовательно, у нас есть основания отклонить нулевую гипотезу, r не равен нулю"
      ],
      "metadata": {
        "id": "ZGUGhUC262Er"
      }
    },
    {
      "cell_type": "markdown",
      "source": [
        "при больших n распределеие r стремится к нормальному\n",
        "для аппроксимации распределения пользуются преобразованием Фишера"
      ],
      "metadata": {
        "id": "2pVKg7Rb65Fo"
      }
    },
    {
      "cell_type": "code",
      "source": [
        "z = 0.5 * np.log((1 + r) / (1 - r))\n",
        "print(z)"
      ],
      "metadata": {
        "colab": {
          "base_uri": "https://localhost:8080/"
        },
        "id": "6z2eP1bfRH_d",
        "outputId": "275eda84-86b4-4779-e0a3-31581be8bfbb"
      },
      "execution_count": 8,
      "outputs": [
        {
          "output_type": "stream",
          "name": "stdout",
          "text": [
            "2.4670923207039843\n"
          ]
        }
      ]
    },
    {
      "cell_type": "markdown",
      "source": [
        "таким образом, доверительный интервал с надежностью 0.95"
      ],
      "metadata": {
        "id": "NSOE_Dca6_wA"
      }
    },
    {
      "cell_type": "code",
      "source": [
        "\n",
        "zl = z - 1.96 * (1 / np.sqrt(n - 3))\n",
        "zr = z + 1.96 * (1 / np.sqrt(n - 3))\n",
        "\n",
        "r_l = (np.exp(2 * zl) - 1) / (np.exp(2 * zl) + 1)\n",
        "r_r = (np.exp(2 * zr) - 1) / (np.exp(2 * zr) + 1)\n",
        "print('[' + str(r_l) + ' ; ' + str(r_r) + ']')"
      ],
      "metadata": {
        "colab": {
          "base_uri": "https://localhost:8080/"
        },
        "id": "Kyw1IzmNRZy9",
        "outputId": "6b57813a-a152-405b-c123-118b86e0240f"
      },
      "execution_count": 9,
      "outputs": [
        {
          "output_type": "stream",
          "name": "stdout",
          "text": [
            "[0.9787984110007052 ; 0.9903796529323039]\n"
          ]
        }
      ]
    },
    {
      "cell_type": "markdown",
      "source": [
        "### Модель линейной регрессии"
      ],
      "metadata": {
        "id": "WBm0yRCK6ssU"
      }
    },
    {
      "cell_type": "code",
      "source": [
        "model = LinearRegression()\n",
        "model.fit(x.reshape((-1, 1)), y)"
      ],
      "metadata": {
        "colab": {
          "base_uri": "https://localhost:8080/"
        },
        "id": "ClCYx0lzSfeq",
        "outputId": "e789c7a6-2daa-4a8e-fb94-8baafc619e26"
      },
      "execution_count": 10,
      "outputs": [
        {
          "output_type": "execute_result",
          "data": {
            "text/plain": [
              "LinearRegression()"
            ]
          },
          "metadata": {},
          "execution_count": 10
        }
      ]
    },
    {
      "cell_type": "code",
      "source": [
        "a = model.coef_[0]\n",
        "b = model.intercept_\n",
        "print('a =', a, '   b =', b)"
      ],
      "metadata": {
        "colab": {
          "base_uri": "https://localhost:8080/"
        },
        "id": "mTs15y6UVXkt",
        "outputId": "cea6a09a-4b7c-482e-e4bf-a58ef47ce4e9"
      },
      "execution_count": 11,
      "outputs": [
        {
          "output_type": "stream",
          "name": "stdout",
          "text": [
            "a = 1.1052179112509894    b = -1.5770928825508612\n"
          ]
        }
      ]
    },
    {
      "cell_type": "code",
      "source": [
        "plt.scatter(x, y)\n",
        "plt.plot(x, x * a + b, color = 'red', linewidth = 3)"
      ],
      "metadata": {
        "colab": {
          "base_uri": "https://localhost:8080/",
          "height": 282
        },
        "id": "nSEIuoiZYVRB",
        "outputId": "c4e81616-6d91-406f-af6e-30307f1a96c8"
      },
      "execution_count": 12,
      "outputs": [
        {
          "output_type": "execute_result",
          "data": {
            "text/plain": [
              "[<matplotlib.lines.Line2D at 0x7f525b5950d0>]"
            ]
          },
          "metadata": {},
          "execution_count": 12
        },
        {
          "output_type": "display_data",
          "data": {
            "text/plain": [
              "<Figure size 432x288 with 1 Axes>"
            ],
            "image/png": "[encoded data removed]"
          },
          "metadata": {
            "needs_background": "light"
          }
        }
      ]
    },
    {
      "cell_type": "markdown",
      "source": [
        "### Оценка значимости модели с помощью критерия Фишера"
      ],
      "metadata": {
        "id": "ifPzFaT96d9A"
      }
    },
    {
      "cell_type": "code",
      "source": [
        "rss = sum((y - x * a + b)**2)\n",
        "tss = sum((y - np.mean(y))**2)\n",
        "print('RSS =', rss)\n",
        "print('TSS =', tss)"
      ],
      "metadata": {
        "colab": {
          "base_uri": "https://localhost:8080/"
        },
        "id": "7_lsNuUkZ1MP",
        "outputId": "df58d360-9b3c-470c-aa03-962ab397f006"
      },
      "execution_count": 13,
      "outputs": [
        {
          "output_type": "stream",
          "name": "stdout",
          "text": [
            "RSS = 1116.2010825222897\n",
            "TSS = 4275.257408423371\n"
          ]
        }
      ]
    },
    {
      "cell_type": "code",
      "source": [
        "Fisher = (rss / (n - 2)) / (tss / (n - 1))\n",
        "print('F =', Fisher)"
      ],
      "metadata": {
        "colab": {
          "base_uri": "https://localhost:8080/"
        },
        "id": "iVAd04s3kp_0",
        "outputId": "2254c261-2c8c-4974-aa34-be265ea65281"
      },
      "execution_count": 14,
      "outputs": [
        {
          "output_type": "stream",
          "name": "stdout",
          "text": [
            "F = 0.26374806982736404\n"
          ]
        }
      ]
    },
    {
      "cell_type": "markdown",
      "source": [
        "критическое значение Фишера = 1.45 следовательно, принимаем \n",
        "нулевую гипотезу, модель можно считать адекватной"
      ],
      "metadata": {
        "id": "JfdrcRB-6OaI"
      }
    },
    {
      "cell_type": "markdown",
      "source": [
        "### Оценка статистической значимоси коэффициентов"
      ],
      "metadata": {
        "id": "XamY0u916T9k"
      }
    },
    {
      "cell_type": "code",
      "source": [
        "S_ad = np.sqrt(rss / (n - 2))\n",
        "m_a = S_ad / (np.std(x) * np.sqrt(n))\n",
        "m_b = S_ad * np.sqrt(sum(x**2)) / (n * np.std(x))"
      ],
      "metadata": {
        "id": "w7D1nmnymGbx"
      },
      "execution_count": 15,
      "outputs": []
    },
    {
      "cell_type": "code",
      "source": [
        "T_a = a / m_a\n",
        "T_b = b / m_b\n",
        "print(\"T_a =\", T_a)\n",
        "print(\"T_b =\", T_b)"
      ],
      "metadata": {
        "colab": {
          "base_uri": "https://localhost:8080/"
        },
        "id": "CUHMk-ZWptjN",
        "outputId": "62173c58-a3f4-4ea9-b889-e51bf7e555ee"
      },
      "execution_count": 16,
      "outputs": [
        {
          "output_type": "stream",
          "name": "stdout",
          "text": [
            "T_a = 19.097309868101647\n",
            "T_b = -1.6932692607405004\n"
          ]
        }
      ]
    },
    {
      "cell_type": "markdown",
      "source": [
        "критическое значение для этой статистики = 1.99 "
      ],
      "metadata": {
        "id": "vS38lLpU5vT8"
      }
    },
    {
      "cell_type": "markdown",
      "source": [
        "коэффициент a - значимый, коэффициент b - нет (нет статистической значимости отличия от нуля)"
      ],
      "metadata": {
        "id": "E04VeJc66HKt"
      }
    },
    {
      "cell_type": "markdown",
      "source": [
        "95% доверительный интервал для параметров a и b"
      ],
      "metadata": {
        "id": "WziFRwBI6DZg"
      }
    },
    {
      "cell_type": "code",
      "source": [
        "a_l = a - 1.99 * m_a\n",
        "a_r = a + 1.99 * m_a\n",
        "\n",
        "b_l = b - 1.99 * m_b\n",
        "b_r = b + 1.99 * m_b"
      ],
      "metadata": {
        "id": "jVYtXUQVubcQ"
      },
      "execution_count": 17,
      "outputs": []
    },
    {
      "cell_type": "code",
      "source": [
        "print('Доверительный интервал для a  [' + str(a_l) + ' ; ' + str(a_r) + ']')\n",
        "print('Доверительный интервал для b  [' + str(b_l) + ' ; ' + str(b_r) + ']')"
      ],
      "metadata": {
        "colab": {
          "base_uri": "https://localhost:8080/"
        },
        "id": "6q5BKbAjuxCo",
        "outputId": "f540b221-3a9b-4fd0-a532-a7c855b27568"
      },
      "execution_count": 18,
      "outputs": [
        {
          "output_type": "stream",
          "name": "stdout",
          "text": [
            "Доверительный интервал для a  [0.9900507144793063 ; 1.2203851080226726]\n",
            "Доверительный интервал для b  [-3.4305576025704774 ; 0.2763718374687547]\n"
          ]
        }
      ]
    },
    {
      "cell_type": "code",
      "source": [
        "plt.figure(figsize = (10, 7))\n",
        "plt.scatter(x, y, color = 'blue', label = 'data')\n",
        "plt.plot(x, a * x + b, color = 'black', linewidth = 2, label = 'default')\n",
        "plt.plot(x, a_l * x + b_l, color = 'green', linewidth = 2, label = 'left')\n",
        "plt.plot(x, a_r * x + b_r, color = 'red', linewidth = 2, label = 'right')\n",
        "plt.legend(fontsize = 14)"
      ],
      "metadata": {
        "colab": {
          "base_uri": "https://localhost:8080/",
          "height": 445
        },
        "id": "dPfK22FnvMOm",
        "outputId": "e5333afb-f869-40fa-c947-8b44244218c0"
      },
      "execution_count": 19,
      "outputs": [
        {
          "output_type": "execute_result",
          "data": {
            "text/plain": [
              "<matplotlib.legend.Legend at 0x7f525b51a1d0>"
            ]
          },
          "metadata": {},
          "execution_count": 19
        },
        {
          "output_type": "display_data",
          "data": {
            "text/plain": [
              "<Figure size 720x504 with 1 Axes>"
            ],
            "image/png": "[encoded data removed]"
          },
          "metadata": {
            "needs_background": "light"
          }
        }
      ]
    },
    {
      "cell_type": "markdown",
      "source": [
        "### Оценка интервалов прогноза"
      ],
      "metadata": {
        "id": "TBCgtiW77RQE"
      }
    },
    {
      "cell_type": "code",
      "source": [
        "shag = x[1] - x[0]\n",
        "x_for_pred = []\n",
        "temp = x[-1]\n",
        "for i in range(3):\n",
        "    temp += shag\n",
        "    x_for_pred.append(temp)"
      ],
      "metadata": {
        "id": "xbzsHtR17Vj7"
      },
      "execution_count": 20,
      "outputs": []
    },
    {
      "cell_type": "code",
      "source": [
        "for i in range(3):\n",
        "    E = 1.99 * S_ad * np.sqrt(1 + 1 / n + (x_for_pred[i] - np.mean(x))**2 / (n * np.var(x)))\n",
        "    print('Доверительный интервал для',round(x_for_pred[i], 3),\n",
        "          ' [' + str(x_for_pred[i] * a + b - E) + ' ; ' + str(x_for_pred[i] * a + b + E) + ']')"
      ],
      "metadata": {
        "colab": {
          "base_uri": "https://localhost:8080/"
        },
        "id": "SZg8kqKg7uoO",
        "outputId": "2c27ded1-e4f6-4730-bb21-008a044c033d"
      },
      "execution_count": 21,
      "outputs": [
        {
          "output_type": "stream",
          "name": "stdout",
          "text": [
            "Доверительный интервал для 25.202  [19.42562389006482 ; 33.12763859879747]\n",
            "Доверительный интервал для 25.404  [19.644871810872218 ; 33.35494336940461]\n",
            "Доверительный интервал для 25.606  [19.86404317892069 ; 33.582324692770676]\n"
          ]
        }
      ]
    },
    {
      "cell_type": "markdown",
      "source": [
        "# Задание 2"
      ],
      "metadata": {
        "id": "7ovUeosTwR7n"
      }
    },
    {
      "cell_type": "markdown",
      "source": [
        "### Тест Чоу"
      ],
      "metadata": {
        "id": "e_KGS1X6waMn"
      }
    },
    {
      "cell_type": "code",
      "source": [
        "df1 = pd.read_csv('/content/drive/MyDrive/datasets/2.txt',\n",
        "                  sep = ',',\n",
        "                  names = ['x1', 'x2', 'x3', 'y'])"
      ],
      "metadata": {
        "id": "QC57ALycwYVL"
      },
      "execution_count": 22,
      "outputs": []
    },
    {
      "cell_type": "markdown",
      "source": [
        "Модель на всех признаках"
      ],
      "metadata": {
        "id": "4_HsF4Z6zGdb"
      }
    },
    {
      "cell_type": "code",
      "source": [
        "full_x = df1.drop('y', axis = 1)\n",
        "y = df1['y']"
      ],
      "metadata": {
        "id": "pQ9pRs7iw7hb"
      },
      "execution_count": 23,
      "outputs": []
    },
    {
      "cell_type": "code",
      "source": [
        "full_model = LinearRegression()\n",
        "full_model.fit(full_x, y)\n",
        "full_coef = full_model.coef_\n",
        "full_intercept = full_model.intercept_\n",
        "full_rss = sum((y - full_model.predict(full_x)) ** 2)\n",
        "print('full_rss =', full_rss)"
      ],
      "metadata": {
        "colab": {
          "base_uri": "https://localhost:8080/"
        },
        "id": "rhcZ7jfVxReu",
        "outputId": "a997d118-68a8-42a6-eb14-a2278e860914"
      },
      "execution_count": 24,
      "outputs": [
        {
          "output_type": "stream",
          "name": "stdout",
          "text": [
            "full_rss = 41326.94454871696\n"
          ]
        }
      ]
    },
    {
      "cell_type": "markdown",
      "source": [
        "Модель на деленном x2"
      ],
      "metadata": {
        "id": "mL_ldYALz3ft"
      }
    },
    {
      "cell_type": "code",
      "source": [
        "no_x2_0 = df1[df1['x2'] == 0].drop(['x2', 'y'], axis = 1)\n",
        "no_x2_y_0 = df1[df1['x2'] == 0]['y']\n",
        "no_x2_1 = df1[df1['x2'] == 1].drop(['x2', 'y'], axis = 1)\n",
        "no_x2_y_1 = df1[df1['x2'] == 1]['y']"
      ],
      "metadata": {
        "id": "M326uKPHz2Hd"
      },
      "execution_count": 25,
      "outputs": []
    },
    {
      "cell_type": "code",
      "source": [
        "no_x2_0_model = LinearRegression()\n",
        "no_x2_0_model.fit(no_x2_0, no_x2_y_0 )\n",
        "no_x2_0_rss = sum((no_x2_y_0 - no_x2_0_model.predict(no_x2_0)) ** 2)\n",
        "print('no_x2_0_rss =', no_x2_0_rss)"
      ],
      "metadata": {
        "colab": {
          "base_uri": "https://localhost:8080/"
        },
        "id": "LgW__aWo0X4M",
        "outputId": "922da640-5050-4cb5-d669-014fe4866a99"
      },
      "execution_count": 26,
      "outputs": [
        {
          "output_type": "stream",
          "name": "stdout",
          "text": [
            "no_x2_0_rss = 662.3564218762082\n"
          ]
        }
      ]
    },
    {
      "cell_type": "code",
      "source": [
        "no_x2_1_model = LinearRegression()\n",
        "no_x2_1_model.fit(no_x2_1, no_x2_y_1 )\n",
        "no_x2_1_rss = sum((no_x2_y_1 - no_x2_1_model.predict(no_x2_1)) ** 2)\n",
        "print('no_x2_0_rss =', no_x2_1_rss)"
      ],
      "metadata": {
        "colab": {
          "base_uri": "https://localhost:8080/"
        },
        "id": "6AS-bicM1Ly7",
        "outputId": "d52c4b99-2252-4692-e6e2-50f40a5c832f"
      },
      "execution_count": 27,
      "outputs": [
        {
          "output_type": "stream",
          "name": "stdout",
          "text": [
            "no_x2_0_rss = 503.13515816050534\n"
          ]
        }
      ]
    },
    {
      "cell_type": "code",
      "source": [
        "F_choy_1 = ((full_rss - no_x2_0_rss - no_x2_1_rss) / 3) / ((no_x2_0_rss + no_x2_1_rss) / 194)\n",
        "print('F_choy =', F_choy_1)"
      ],
      "metadata": {
        "colab": {
          "base_uri": "https://localhost:8080/"
        },
        "id": "Tyf2lHDc1zyg",
        "outputId": "3aac4a40-e38c-4239-ff7d-c9c0077ca0b0"
      },
      "execution_count": 28,
      "outputs": [
        {
          "output_type": "stream",
          "name": "stdout",
          "text": [
            "F_choy = 2228.3363830846774\n"
          ]
        }
      ]
    },
    {
      "cell_type": "markdown",
      "source": [
        "Критическое значение = 2.65, следовательно принимаем альтернативную гипотезу, и разбиваем выборки"
      ],
      "metadata": {
        "id": "0UIlIB0a6tcJ"
      }
    },
    {
      "cell_type": "markdown",
      "source": [
        "### Оценка параметров моделей"
      ],
      "metadata": {
        "id": "gk-LHoL49q9N"
      }
    },
    {
      "cell_type": "code",
      "source": [
        "def t_test_regression(model, x, y):\n",
        "    coef = model.coef_\n",
        "    inter = model.intercept_\n",
        "    all_coef = np.hstack((coef, inter))\n",
        "    ess = sum((y - model.predict(x)) ** 2)\n",
        "    tss = sum((y - np.mean(y)) ** 2)\n",
        "    R2 = 1 - ess / tss\n",
        "    ###\n",
        "    lm1 = LinearRegression()\n",
        "    x1 = np.array(x['x1'])\n",
        "    y1 = x['x3']\n",
        "    lm1.fit(x1.reshape((-1, 1)), y1)\n",
        "    pred1 = lm1.predict(x1.reshape((-1, 1)))\n",
        "    ess1 = sum((y1 - pred1) ** 2)\n",
        "    tss1 = sum((y1 - np.mean(y1)) ** 2)\n",
        "    R2_1 = 1 - ess1 / tss1\n",
        "    ###\n",
        "    lm2 = LinearRegression()\n",
        "    x2 = np.array(x['x3'])\n",
        "    y2 = x['x1']\n",
        "    lm2.fit(x2.reshape((-1, 1)), y2)\n",
        "    pred2 = lm2.predict(x2.reshape((-1, 1)))\n",
        "    ess2 = sum((y2 - pred2) ** 2)\n",
        "    tss2 = sum((y2 - np.mean(y2)) ** 2)\n",
        "    R2_2 = 1 - ess2 / tss2\n",
        "\n",
        "    error1 = (np.std(y) / np.std(x['x1'])) * np.sqrt((1 - R2) / ((1 - R2_2) * (len(y) - 3)))\n",
        "    error2 = (np.std(y) / np.std(x['x3'])) * np.sqrt((1 - R2) / ((1 - R2_1) * (len(y) - 3)))\n",
        "\n",
        "    t1 = coef[0] / error1\n",
        "    t2 = coef[1] / error2\n",
        "    \n",
        "    print('критическая точка для t = 1.97')\n",
        "    print('t-stat for x1 =', t1)\n",
        "    print('t-stat for x3 =', t2)"
      ],
      "metadata": {
        "id": "T7VJqYhG6bWg"
      },
      "execution_count": 29,
      "outputs": []
    },
    {
      "cell_type": "markdown",
      "source": [
        "оценка параметров первой модели"
      ],
      "metadata": {
        "id": "T9gu9XDQ10dz"
      }
    },
    {
      "cell_type": "code",
      "source": [
        "t_test_regression(no_x2_0_model, no_x2_0, no_x2_y_0)"
      ],
      "metadata": {
        "colab": {
          "base_uri": "https://localhost:8080/"
        },
        "id": "wvd8jcrTvOrP",
        "outputId": "99afd707-97f5-4443-cd1f-f24503079d71"
      },
      "execution_count": 30,
      "outputs": [
        {
          "output_type": "stream",
          "name": "stdout",
          "text": [
            "критическая точка для t = 1.97\n",
            "t-stat for x1 = -58.11675663481409\n",
            "t-stat for x3 = -0.2681787529108267\n"
          ]
        }
      ]
    },
    {
      "cell_type": "markdown",
      "source": [
        "оценка параметров второй модели"
      ],
      "metadata": {
        "id": "rF5_AKzJ11JT"
      }
    },
    {
      "cell_type": "code",
      "source": [
        "t_test_regression(no_x2_1_model, no_x2_1, no_x2_y_1)"
      ],
      "metadata": {
        "colab": {
          "base_uri": "https://localhost:8080/"
        },
        "id": "JCkh89gK1GFb",
        "outputId": "3bf6919a-d441-4d0b-9913-ba9e636f5215"
      },
      "execution_count": 31,
      "outputs": [
        {
          "output_type": "stream",
          "name": "stdout",
          "text": [
            "критическая точка для t = 1.97\n",
            "t-stat for x1 = 57.75078915213976\n",
            "t-stat for x3 = 0.19968237439625022\n"
          ]
        }
      ]
    },
    {
      "cell_type": "markdown",
      "source": [
        "#Задание 3"
      ],
      "metadata": {
        "id": "RDErxCIf2ItO"
      }
    },
    {
      "cell_type": "code",
      "source": [
        "df2 = pd.read_csv('/content/drive/MyDrive/datasets/3.txt',\n",
        "                 sep = ',',\n",
        "                 names = ['x','y'])"
      ],
      "metadata": {
        "id": "qFRgxaes1fcu"
      },
      "execution_count": 32,
      "outputs": []
    },
    {
      "cell_type": "code",
      "source": [
        "plt.scatter(df2['x'], df2['y'])"
      ],
      "metadata": {
        "colab": {
          "base_uri": "https://localhost:8080/",
          "height": 282
        },
        "id": "S64OFZev2VFs",
        "outputId": "192f93a2-84ab-4473-aa0f-1ac61b3cfce4"
      },
      "execution_count": 33,
      "outputs": [
        {
          "output_type": "execute_result",
          "data": {
            "text/plain": [
              "<matplotlib.collections.PathCollection at 0x7f525b47ed10>"
            ]
          },
          "metadata": {},
          "execution_count": 33
        },
        {
          "output_type": "display_data",
          "data": {
            "text/plain": [
              "<Figure size 432x288 with 1 Axes>"
            ],
            "image/png": "[encoded data removed]"
          },
          "metadata": {
            "needs_background": "light"
          }
        }
      ]
    },
    {
      "cell_type": "markdown",
      "source": [
        "### Тест Голдфелда-Квандта"
      ],
      "metadata": {
        "id": "HRe6Qxcs2ix2"
      }
    },
    {
      "cell_type": "code",
      "source": [
        "data1 = df2[0:34]"
      ],
      "metadata": {
        "id": "m3mxTBqz4LaX"
      },
      "execution_count": 38,
      "outputs": []
    },
    {
      "cell_type": "code",
      "source": [
        "data2 = df2[66:]"
      ],
      "metadata": {
        "id": "Dtfdhyf5ZJZj"
      },
      "execution_count": 39,
      "outputs": []
    },
    {
      "cell_type": "code",
      "source": [
        "m1 = LinearRegression()\n",
        "m1.fit(np.array(data1['x']).reshape((-1, 1)), data1['y'])\n",
        "pr1 = m1.predict(np.array(data1['x']).reshape((-1, 1)))\n",
        "rss1 = sum((np.array(data1['y']) - pr1) ** 2)"
      ],
      "metadata": {
        "id": "rLGO7hNDZVTR"
      },
      "execution_count": 46,
      "outputs": []
    },
    {
      "cell_type": "code",
      "source": [
        "m2 = LinearRegression()\n",
        "m2.fit(np.array(data2['x']).reshape((-1, 1)), data2['y'])\n",
        "pr2 = m2.predict(np.array(data2['x']).reshape((-1, 1)))\n",
        "rss2 = sum((np.array(data2['y']) - pr2) ** 2)"
      ],
      "metadata": {
        "id": "34I9i9dJZjIi"
      },
      "execution_count": 47,
      "outputs": []
    },
    {
      "cell_type": "code",
      "source": [
        "if rss1 > rss2:\n",
        "    Fk = (rss1 / (len(data1) - 1)) / (rss2 / (len(data2) - 1))\n",
        "else:\n",
        "    Fk = (rss2 / (len(data2) - 1)) / (rss1 / (len(data1) - 1))"
      ],
      "metadata": {
        "id": "QPkflfD3cSlh"
      },
      "execution_count": 53,
      "outputs": []
    },
    {
      "cell_type": "code",
      "source": [
        "print('Fk =', Fk)"
      ],
      "metadata": {
        "colab": {
          "base_uri": "https://localhost:8080/"
        },
        "id": "00bGCaT6cvFk",
        "outputId": "a8cda32e-19af-458c-fc22-76ff35553bef"
      },
      "execution_count": 55,
      "outputs": [
        {
          "output_type": "stream",
          "name": "stdout",
          "text": [
            "Fk = 8.524289924715236\n"
          ]
        }
      ]
    },
    {
      "cell_type": "markdown",
      "source": [
        "Критическая точка = 1.60"
      ],
      "metadata": {
        "id": "oxz1j9ZvdV7k"
      }
    },
    {
      "cell_type": "markdown",
      "source": [
        "Следовательно, гетероскедастичность имеет место для заданной линейной зависимости"
      ],
      "metadata": {
        "id": "6M6chJKrdanO"
      }
    },
    {
      "cell_type": "markdown",
      "source": [
        "### Тест Спирмена"
      ],
      "metadata": {
        "id": "KKIIzvCgdiKb"
      }
    },
    {
      "cell_type": "code",
      "source": [
        "def rang(a):\n",
        "    r = np.array(a.argsort().argsort(), dtype=float)\n",
        "    f = a==a\n",
        "    for i in range(len(a)):\n",
        "      if not f[i]: continue\n",
        "      s = a == a[i]\n",
        "      ls = np.sum(s)\n",
        "      if ls > 1:\n",
        "          tr = np.sum(r[s])\n",
        "          r[s] = float(tr)/ls\n",
        "      f[s] = False\n",
        "    return r + 1"
      ],
      "metadata": {
        "id": "Wuh8dYOHdEJR"
      },
      "execution_count": 68,
      "outputs": []
    },
    {
      "cell_type": "code",
      "source": [
        "x = np.array(df2['x'])\n",
        "y = np.array(df2['y'])\n",
        "linr = LinearRegression()\n",
        "linr.fit(x.reshape((-1, 1)), y)\n",
        "preds = linr.predict(x.reshape((-1, 1)))\n",
        "errors = y - preds\n",
        "r_er = rang(errors)\n",
        "r_x = rang(x)"
      ],
      "metadata": {
        "id": "qPJmoi_ggCS6"
      },
      "execution_count": 84,
      "outputs": []
    },
    {
      "cell_type": "code",
      "source": [
        "sm = 0\n",
        "n = len(r_x)\n",
        "for i in range(len(r_x)):\n",
        "    sm += r_er[i] - r_x[i]\n",
        "\n",
        "final_r = 1 - ((6 * sm) / (n * (n**2 - 1)))\n",
        "print('sqrt r(e,x) =', final_r * np.sqrt(n - 1) )"
      ],
      "metadata": {
        "colab": {
          "base_uri": "https://localhost:8080/"
        },
        "id": "Qc5PNwmxg9y-",
        "outputId": "2922cfc1-3bdf-49d1-9e04-6b6f7a0612e0"
      },
      "execution_count": 85,
      "outputs": [
        {
          "output_type": "stream",
          "name": "stdout",
          "text": [
            "sqrt r(e,x) = 9.9498743710662\n"
          ]
        }
      ]
    },
    {
      "cell_type": "markdown",
      "source": [
        "Критическое значение = 1.96"
      ],
      "metadata": {
        "id": "flWZVegjiM-S"
      }
    },
    {
      "cell_type": "markdown",
      "source": [
        "Следовательно, принимается альтернативная гипотеза, гетероскедастичность признается значимой"
      ],
      "metadata": {
        "id": "cf3Jw6FyiR40"
      }
    },
    {
      "cell_type": "markdown",
      "source": [
        "### Оценка модели и ее коэффициентов"
      ],
      "metadata": {
        "id": "t50N-K3JigbR"
      }
    },
    {
      "cell_type": "code",
      "source": [
        "rss = sum((y - preds) ** 2)\n",
        "tss = sum((y - np.mean(y)) ** 2)\n",
        "Fisher = (rss / (n - 2)) / (tss / (n - 1))\n",
        "print('F =', Fisher)"
      ],
      "metadata": {
        "colab": {
          "base_uri": "https://localhost:8080/"
        },
        "id": "UxufKEu5hcw-",
        "outputId": "d3934d07-b38e-4e0a-f903-6e16c85e6dc0"
      },
      "execution_count": 87,
      "outputs": [
        {
          "output_type": "stream",
          "name": "stdout",
          "text": [
            "F = 0.5783282782372539\n"
          ]
        }
      ]
    },
    {
      "cell_type": "markdown",
      "source": [
        "Критическая точка = 1.26"
      ],
      "metadata": {
        "id": "Bmi1Igm-j5tb"
      }
    },
    {
      "cell_type": "markdown",
      "source": [
        "Следовательно, модель имеет место быть"
      ],
      "metadata": {
        "id": "COmUczV2j8ns"
      }
    },
    {
      "cell_type": "code",
      "source": [
        "a = linr.coef_[0]\n",
        "b = linr.intercept_"
      ],
      "metadata": {
        "id": "XNiISbaejmHX"
      },
      "execution_count": 89,
      "outputs": []
    },
    {
      "cell_type": "code",
      "source": [
        "S_ad = np.sqrt(rss / (n - 2))\n",
        "m_a = S_ad / (np.std(x) * np.sqrt(n))\n",
        "m_b = S_ad * np.sqrt(sum(x**2)) / (n * np.std(x))"
      ],
      "metadata": {
        "id": "9rAELyN7kPZy"
      },
      "execution_count": 90,
      "outputs": []
    },
    {
      "cell_type": "code",
      "source": [
        "T_a = a / m_a\n",
        "T_b = b / m_b\n",
        "print(\"T_a =\", T_a)\n",
        "print('T_b =', T_b)"
      ],
      "metadata": {
        "colab": {
          "base_uri": "https://localhost:8080/"
        },
        "id": "TM7vnzLHkrLz",
        "outputId": "b61d5622-930b-4851-bdb4-eb8f265329ee"
      },
      "execution_count": 91,
      "outputs": [
        {
          "output_type": "stream",
          "name": "stdout",
          "text": [
            "T_a = -8.55470937395386\n",
            "T_b = 0.8414767063429153\n"
          ]
        }
      ]
    },
    {
      "cell_type": "markdown",
      "source": [
        "Критическая точка = 1.99"
      ],
      "metadata": {
        "id": "NSjgiZbGlFfq"
      }
    },
    {
      "cell_type": "markdown",
      "source": [
        "Следовательно, a значительно отличается от нуля, b - нет"
      ],
      "metadata": {
        "id": "mztvZ4ErlJc7"
      }
    }
  ]
}